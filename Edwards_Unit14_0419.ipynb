{
 "cells": [
  {
   "cell_type": "markdown",
   "metadata": {},
   "source": [
    "# Dominique Edwards - Unit 14: Case Study"
   ]
  },
  {
   "cell_type": "markdown",
   "metadata": {},
   "source": [
    "## <u>Abstract</u> "
   ]
  },
  {
   "cell_type": "markdown",
   "metadata": {},
   "source": [
    "insert text here"
   ]
  },
  {
   "cell_type": "markdown",
   "metadata": {},
   "source": [
    "## <u>Introduction</u>"
   ]
  },
  {
   "cell_type": "markdown",
   "metadata": {},
   "source": [
    "insert text here"
   ]
  },
  {
   "cell_type": "markdown",
   "metadata": {},
   "source": [
    "## <u>Methods</u>"
   ]
  },
  {
   "cell_type": "code",
   "execution_count": 1,
   "metadata": {},
   "outputs": [
    {
     "name": "stderr",
     "output_type": "stream",
     "text": [
      "Using Theano backend.\n"
     ]
    }
   ],
   "source": [
    "import keras\n",
    "import tensorflow as tf"
   ]
  },
  {
   "cell_type": "code",
   "execution_count": 2,
   "metadata": {},
   "outputs": [],
   "source": [
    "import numpy as np\n",
    "import pandas as pd"
   ]
  },
  {
   "cell_type": "code",
   "execution_count": 46,
   "metadata": {},
   "outputs": [],
   "source": [
    "from keras.models import Sequential\n",
    "from keras.layers.core import Dense, Dropout, Activation\n",
    "from keras.optimizers import SGD, Adagrad, Adadelta, Adam\n",
    "from sklearn.metrics import roc_auc_score"
   ]
  },
  {
   "cell_type": "code",
   "execution_count": 7,
   "metadata": {},
   "outputs": [],
   "source": [
    "N=1000000. #Change this line adjust the number of rows. \n",
    "data=pd.read_csv(\"HIGGS.csv\",nrows=N,header=None)\n",
    "test_data=pd.read_csv(\"HIGGS.csv\",nrows=500000,header=None,skiprows=10500000)"
   ]
  },
  {
   "cell_type": "code",
   "execution_count": 8,
   "metadata": {},
   "outputs": [],
   "source": [
    "y = np.array(data.loc[:,0])\n",
    "x = np.array(data.loc[:,1:])\n",
    "x_test = np.array(test_data.loc[:,1:])\n",
    "y_test = np.array(test_data.loc[:,0])"
   ]
  },
  {
   "cell_type": "markdown",
   "metadata": {},
   "source": [
    "### 1.\tPick 3 or more different architectures (add/subtract layers+neurons) and run the model + score. "
   ]
  },
  {
   "cell_type": "code",
   "execution_count": 36,
   "metadata": {},
   "outputs": [
    {
     "name": "stdout",
     "output_type": "stream",
     "text": [
      "Epoch 1/5\n",
      "1000000/1000000 [==============================] - 62s 62us/step - loss: 0.6917 - acc: 0.5292\n",
      "Epoch 2/5\n",
      "1000000/1000000 [==============================] - 75s 75us/step - loss: 0.6917 - acc: 0.5295\n",
      "Epoch 3/5\n",
      "1000000/1000000 [==============================] - 82s 82us/step - loss: 0.6916 - acc: 0.5293\n",
      "Epoch 4/5\n",
      "1000000/1000000 [==============================] - 93s 93us/step - loss: 0.6916 - acc: 0.5293\n",
      "Epoch 5/5\n",
      "1000000/1000000 [==============================] - 73s 73us/step - loss: 0.6916 - acc: 0.5291\n"
     ]
    },
    {
     "data": {
      "text/plain": [
       "0.56918305794373447"
      ]
     },
     "execution_count": 36,
     "metadata": {},
     "output_type": "execute_result"
    }
   ],
   "source": [
    "model = Sequential()\n",
    "\n",
    "## Layer 1\n",
    "model.add(Dense(80, input_dim=x.shape[1], kernel_initializer='uniform')) # X_train.shape[1] == 28 here\n",
    "\n",
    "#Other options besides sigmoid (relu, )\n",
    "model.add(Activation('sigmoid'))\n",
    "#model.add(Dropout(0.10))\n",
    "\n",
    "##Layer 2\n",
    "model.add(Dense(80, kernel_initializer='uniform'))\n",
    "model.add(Activation('sigmoid'))\n",
    "#model.add(Dropout(0.10))\n",
    "\n",
    "##Layer 3 added\n",
    "model.add(Dense(40, kernel_initializer='uniform'))\n",
    "model.add(Activation('sigmoid'))\n",
    "#model.add(Dropout(0.10))\n",
    "\n",
    "##Layer 4 added\n",
    "#model.add(Dense(80, kernel_initializer='uniform'))\n",
    "#model.add(Activation('sigmoid'))\n",
    "#model.add(Dropout(0.10))\n",
    "\n",
    "## 1 put output layer, notice the difference\n",
    "model.add(Dense(1, kernel_initializer='uniform')) \n",
    "model.add(Activation('sigmoid'))\n",
    "\n",
    "\n",
    "##other optimizers besides sgd\n",
    "sgd = SGD(lr=0.1, decay=1e-6, momentum=0.9, nesterov=True)\n",
    "model.compile(loss='binary_crossentropy', metrics=['accuracy'], optimizer=sgd)\n",
    "\n",
    "model.fit(x, y, epochs=5, batch_size=1000)\n",
    "roc_auc_score(y_test,model.predict(x_test))\n",
    "#end"
   ]
  },
  {
   "cell_type": "markdown",
   "metadata": {},
   "source": [
    "### 2.\tWith those same 3 architectures, run the SAME architecture but with 2 different (from sigmoid) activation functions.  Google the Keras documentation for a look at different available activations.  [relu, tanh, linear]"
   ]
  },
  {
   "cell_type": "markdown",
   "metadata": {},
   "source": [
    "#### 'relu' activation"
   ]
  },
  {
   "cell_type": "code",
   "execution_count": 35,
   "metadata": {},
   "outputs": [
    {
     "name": "stdout",
     "output_type": "stream",
     "text": [
      "Epoch 1/5\n",
      "1000000/1000000 [==============================] - 18s 18us/step - loss: 7.4937 - acc: 4.7300e-04\n",
      "Epoch 2/5\n",
      "1000000/1000000 [==============================] - 20s 20us/step - loss: 7.4981 - acc: 0.0000e+00\n",
      "Epoch 3/5\n",
      "1000000/1000000 [==============================] - 20s 20us/step - loss: 7.4981 - acc: 0.0000e+00\n",
      "Epoch 4/5\n",
      "1000000/1000000 [==============================] - 21s 21us/step - loss: 7.4981 - acc: 0.0000e+00\n",
      "Epoch 5/5\n",
      "1000000/1000000 [==============================] - 24s 24us/step - loss: 7.4981 - acc: 0.0000e+00\n"
     ]
    },
    {
     "data": {
      "text/plain": [
       "0.46604141282061384"
      ]
     },
     "execution_count": 35,
     "metadata": {},
     "output_type": "execute_result"
    }
   ],
   "source": [
    "model_2 = Sequential()\n",
    "\n",
    "## Layer 1\n",
    "model_2.add(Dense(80, input_dim=x.shape[1], kernel_initializer='uniform')) # X_train.shape[1] == 28 here\n",
    "model_2.add(Activation('relu'))\n",
    "#model.add(Dropout(0.10))\n",
    "\n",
    "##Layer 2\n",
    "model_2.add(Dense(40, kernel_initializer='uniform'))\n",
    "model_2.add(Activation('relu'))\n",
    "#model.add(Dropout(0.10))\n",
    "\n",
    "##Layer 3 \n",
    "model_2.add(Dense(40, kernel_initializer='uniform'))\n",
    "model_2.add(Activation('relu'))\n",
    "#model.add(Dropout(0.10))\n",
    "\n",
    "## Output Layer\n",
    "model_2.add(Dense(1, kernel_initializer='uniform')) \n",
    "model_2.add(Activation('relu'))\n",
    "\n",
    "#Optimizer\n",
    "sgd = SGD(lr=0.1, decay=1e-6, momentum=0.9, nesterov=True)\n",
    "model_2.compile(loss='binary_crossentropy', metrics=['accuracy'], optimizer=sgd)\n",
    "\n",
    "model_2.fit(x, y, epochs=5, batch_size=1000)\n",
    "roc_auc_score(y_test,model_2.predict(x_test))\n",
    "#end"
   ]
  },
  {
   "cell_type": "markdown",
   "metadata": {},
   "source": [
    "#### 'tanh' activation"
   ]
  },
  {
   "cell_type": "code",
   "execution_count": 29,
   "metadata": {},
   "outputs": [
    {
     "name": "stdout",
     "output_type": "stream",
     "text": [
      "Epoch 1/5\n",
      "1000000/1000000 [==============================] - 28s 28us/step - loss: 7.4952 - acc: 0.5296\n",
      "Epoch 2/5\n",
      "1000000/1000000 [==============================] - 31s 31us/step - loss: 7.4981 - acc: 0.5297\n",
      "Epoch 3/5\n",
      "1000000/1000000 [==============================] - 34s 34us/step - loss: 7.4981 - acc: 0.5297\n",
      "Epoch 4/5\n",
      "1000000/1000000 [==============================] - 35s 35us/step - loss: 7.4981 - acc: 0.5297\n",
      "Epoch 5/5\n",
      "1000000/1000000 [==============================] - 36s 36us/step - loss: 7.4981 - acc: 0.5297\n"
     ]
    },
    {
     "data": {
      "text/plain": [
       "0.5"
      ]
     },
     "execution_count": 29,
     "metadata": {},
     "output_type": "execute_result"
    }
   ],
   "source": [
    "model_2b = Sequential()\n",
    "\n",
    "## Layer 1\n",
    "model_2b.add(Dense(80, input_dim=x.shape[1], kernel_initializer='uniform')) # X_train.shape[1] == 28 here\n",
    "model_2b.add(Activation('tanh'))\n",
    "#model.add(Dropout(0.10))\n",
    "\n",
    "##Layer 2\n",
    "model_2b.add(Dense(80, kernel_initializer='uniform'))\n",
    "model_2b.add(Activation('tanh'))\n",
    "#model.add(Dropout(0.10))\n",
    "\n",
    "##Layer 3 \n",
    "model_2b.add(Dense(40, kernel_initializer='uniform'))\n",
    "model_2b.add(Activation('tanh'))\n",
    "#model.add(Dropout(0.10))\n",
    "\n",
    "\n",
    "##Output Layer\n",
    "model_2b.add(Dense(1, kernel_initializer='uniform')) \n",
    "model_2b.add(Activation('tanh'))\n",
    "\n",
    "\n",
    "##Optimizer\n",
    "sgd = SGD(lr=0.1, decay=1e-6, momentum=0.9, nesterov=True)\n",
    "model_2b.compile(loss='binary_crossentropy', metrics=['accuracy'], optimizer=sgd)\n",
    "\n",
    "model_2b.fit(x, y, epochs=5, batch_size=1000)\n",
    "roc_auc_score(y_test,model_2b.predict(x_test))\n",
    "#end"
   ]
  },
  {
   "cell_type": "markdown",
   "metadata": {},
   "source": [
    "### 3.\tTake your best model from parts 1&2 and vary the batch size by at least 2 orders of magnitude"
   ]
  },
  {
   "cell_type": "markdown",
   "metadata": {},
   "source": [
    "#### Batch size = 100000"
   ]
  },
  {
   "cell_type": "code",
   "execution_count": 37,
   "metadata": {},
   "outputs": [
    {
     "name": "stdout",
     "output_type": "stream",
     "text": [
      "Epoch 1/5\n",
      "1000000/1000000 [==============================] - 37s 37us/step - loss: 0.6914 - acc: 0.5297\n",
      "Epoch 2/5\n",
      "1000000/1000000 [==============================] - 41s 41us/step - loss: 0.6914 - acc: 0.5297\n",
      "Epoch 3/5\n",
      "1000000/1000000 [==============================] - 40s 40us/step - loss: 0.6914 - acc: 0.5297\n",
      "Epoch 4/5\n",
      "1000000/1000000 [==============================] - 41s 41us/step - loss: 0.6914 - acc: 0.5297\n",
      "Epoch 5/5\n",
      "1000000/1000000 [==============================] - 42s 42us/step - loss: 0.6914 - acc: 0.5297\n"
     ]
    },
    {
     "data": {
      "text/plain": [
       "0.50491641886143268"
      ]
     },
     "execution_count": 37,
     "metadata": {},
     "output_type": "execute_result"
    }
   ],
   "source": [
    "modela = Sequential()\n",
    "\n",
    "## Layer 1\n",
    "modela.add(Dense(80, input_dim=x.shape[1], kernel_initializer='uniform')) # X_train.shape[1] == 28 here\n",
    "modela.add(Activation('sigmoid'))\n",
    "#model.add(Dropout(0.10))\n",
    "\n",
    "##Layer 2\n",
    "modela.add(Dense(80, kernel_initializer='uniform'))\n",
    "modela.add(Activation('sigmoid'))\n",
    "#model.add(Dropout(0.10))\n",
    "\n",
    "##Layer 3\n",
    "modela.add(Dense(40, kernel_initializer='uniform'))\n",
    "modela.add(Activation('sigmoid'))\n",
    "#model.add(Dropout(0.10))\n",
    "\n",
    "##Output Layer\n",
    "modela.add(Dense(1, kernel_initializer='uniform')) \n",
    "modela.add(Activation('sigmoid'))\n",
    "\n",
    "##Optimizer\n",
    "sgd = SGD(lr=0.1, decay=1e-6, momentum=0.9, nesterov=True)\n",
    "modela.compile(loss='binary_crossentropy', metrics=['accuracy'], optimizer=sgd)\n",
    "\n",
    "modela.fit(x, y, epochs=5, batch_size=100000)\n",
    "roc_auc_score(y_test,modela.predict(x_test))\n",
    "#end"
   ]
  },
  {
   "cell_type": "markdown",
   "metadata": {},
   "source": [
    "#### Batch size = 100"
   ]
  },
  {
   "cell_type": "code",
   "execution_count": 38,
   "metadata": {},
   "outputs": [
    {
     "name": "stdout",
     "output_type": "stream",
     "text": [
      "Epoch 1/5\n",
      "1000000/1000000 [==============================] - 73s 73us/step - loss: 0.6895 - acc: 0.5329\n",
      "Epoch 2/5\n",
      "1000000/1000000 [==============================] - 84s 84us/step - loss: 0.6189 - acc: 0.6544\n",
      "Epoch 3/5\n",
      "1000000/1000000 [==============================] - 82s 82us/step - loss: 0.5879 - acc: 0.6863\n",
      "Epoch 4/5\n",
      "1000000/1000000 [==============================] - 75s 75us/step - loss: 0.5787 - acc: 0.6947\n",
      "Epoch 5/5\n",
      "1000000/1000000 [==============================] - 91s 91us/step - loss: 0.5723 - acc: 0.7008\n"
     ]
    },
    {
     "data": {
      "text/plain": [
       "0.77441499525508417"
      ]
     },
     "execution_count": 38,
     "metadata": {},
     "output_type": "execute_result"
    }
   ],
   "source": [
    "modelb = Sequential()\n",
    "\n",
    "## Layer 1\n",
    "modelb.add(Dense(80, input_dim=x.shape[1], kernel_initializer='uniform')) # X_train.shape[1] == 28 here\n",
    "modelb.add(Activation('sigmoid'))\n",
    "#model.add(Dropout(0.10))\n",
    "\n",
    "##Layer 2\n",
    "modelb.add(Dense(80, kernel_initializer='uniform'))\n",
    "modelb.add(Activation('sigmoid'))\n",
    "#model.add(Dropout(0.10))\n",
    "\n",
    "##Layer 3 \n",
    "modelb.add(Dense(40, kernel_initializer='uniform'))\n",
    "modelb.add(Activation('sigmoid'))\n",
    "#model.add(Dropout(0.10))\n",
    "\n",
    "##Output Layer\n",
    "modelb.add(Dense(1, kernel_initializer='uniform')) \n",
    "modelb.add(Activation('sigmoid'))\n",
    "\n",
    "##Optimizer\n",
    "sgd = SGD(lr=0.1, decay=1e-6, momentum=0.9, nesterov=True)\n",
    "modelb.compile(loss='binary_crossentropy', metrics=['accuracy'], optimizer=sgd)\n",
    "\n",
    "modelb.fit(x, y, epochs=5, batch_size=100)\n",
    "roc_auc_score(y_test,modelb.predict(x_test))\n",
    "#end"
   ]
  },
  {
   "cell_type": "markdown",
   "metadata": {},
   "source": [
    "### 4.\tTake your best model (score) from parts 1&2 and use 3 different kernel initializers. Use a reasonable batch size. "
   ]
  },
  {
   "cell_type": "markdown",
   "metadata": {},
   "source": [
    "#### 'glorot_normal' Kernel Initializer"
   ]
  },
  {
   "cell_type": "code",
   "execution_count": 41,
   "metadata": {},
   "outputs": [
    {
     "name": "stderr",
     "output_type": "stream",
     "text": [
      "INFO (theano.gof.compilelock): Refreshing lock C:\\Users\\Dominique\\AppData\\Local\\Theano\\compiledir_Windows-7-6.1.7601-SP1-Intel64_Family_6_Model_42_Stepping_7_GenuineIntel-3.6.4-64\\lock_dir\\lock\n"
     ]
    },
    {
     "name": "stdout",
     "output_type": "stream",
     "text": [
      "Epoch 1/5\n",
      "1000000/1000000 [==============================] - 64s 64us/step - loss: 0.6753 - acc: 0.5686\n",
      "Epoch 2/5\n",
      "1000000/1000000 [==============================] - 63s 63us/step - loss: 0.6403 - acc: 0.6301\n",
      "Epoch 3/5\n",
      "1000000/1000000 [==============================] - 65s 65us/step - loss: 0.6263 - acc: 0.6510\n",
      "Epoch 4/5\n",
      "1000000/1000000 [==============================] - 67s 67us/step - loss: 0.6115 - acc: 0.6668\n",
      "Epoch 5/5\n",
      "1000000/1000000 [==============================] - 67s 67us/step - loss: 0.5998 - acc: 0.6781\n"
     ]
    },
    {
     "data": {
      "text/plain": [
       "0.74995065365859204"
      ]
     },
     "execution_count": 41,
     "metadata": {},
     "output_type": "execute_result"
    }
   ],
   "source": [
    "modelc = Sequential()\n",
    "\n",
    "## Layer 1\n",
    "modelc.add(Dense(80, input_dim=x.shape[1], kernel_initializer='glorot_normal')) # X_train.shape[1] == 28 here\n",
    "modelc.add(Activation('sigmoid'))\n",
    "#model.add(Dropout(0.10))\n",
    "\n",
    "##Layer 2\n",
    "modelc.add(Dense(80, kernel_initializer='glorot_normal'))\n",
    "modelc.add(Activation('sigmoid'))\n",
    "#model.add(Dropout(0.10))\n",
    "\n",
    "##Layer 3 \n",
    "modelc.add(Dense(40, kernel_initializer='glorot_normal'))\n",
    "modelc.add(Activation('sigmoid'))\n",
    "#model.add(Dropout(0.10))\n",
    "\n",
    "##Output Layer\n",
    "modelc.add(Dense(1, kernel_initializer='glorot_normal')) \n",
    "modelc.add(Activation('sigmoid'))\n",
    "\n",
    "\n",
    "##Optimizer\n",
    "sgd = SGD(lr=0.1, decay=1e-6, momentum=0.9, nesterov=True)\n",
    "modelc.compile(loss='binary_crossentropy', metrics=['accuracy'], optimizer=sgd)\n",
    "\n",
    "modelc.fit(x, y, epochs=5, batch_size=1000)\n",
    "roc_auc_score(y_test,modelc.predict(x_test))\n",
    "#end"
   ]
  },
  {
   "cell_type": "markdown",
   "metadata": {},
   "source": [
    "#### 'Orthogonal' Kernel Initializer"
   ]
  },
  {
   "cell_type": "code",
   "execution_count": 42,
   "metadata": {},
   "outputs": [
    {
     "name": "stdout",
     "output_type": "stream",
     "text": [
      "Epoch 1/5\n",
      "1000000/1000000 [==============================] - 64s 64us/step - loss: 0.6841 - acc: 0.5502\n",
      "Epoch 2/5\n",
      "1000000/1000000 [==============================] - 63s 63us/step - loss: 0.6438 - acc: 0.6250\n",
      "Epoch 3/5\n",
      "1000000/1000000 [==============================] - 67s 67us/step - loss: 0.6329 - acc: 0.6419\n",
      "Epoch 4/5\n",
      "1000000/1000000 [==============================] - 63s 63us/step - loss: 0.6213 - acc: 0.6565\n",
      "Epoch 5/5\n",
      "1000000/1000000 [==============================] - 64s 64us/step - loss: 0.6079 - acc: 0.6691\n"
     ]
    },
    {
     "data": {
      "text/plain": [
       "0.74367847545817356"
      ]
     },
     "execution_count": 42,
     "metadata": {},
     "output_type": "execute_result"
    }
   ],
   "source": [
    "modeld = Sequential()\n",
    "\n",
    "## Layer 1\n",
    "modeld.add(Dense(80, input_dim=x.shape[1], kernel_initializer='Orthogonal')) # X_train.shape[1] == 28 here\n",
    "modeld.add(Activation('sigmoid'))\n",
    "#model.add(Dropout(0.10))\n",
    "\n",
    "##Layer 2\n",
    "modeld.add(Dense(80, kernel_initializer='Orthogonal'))\n",
    "modeld.add(Activation('sigmoid'))\n",
    "#model.add(Dropout(0.10))\n",
    "\n",
    "##Layer 3 \n",
    "modeld.add(Dense(40, kernel_initializer='Orthogonal'))\n",
    "modeld.add(Activation('sigmoid'))\n",
    "#model.add(Dropout(0.10))\n",
    "\n",
    "##Output Layer\n",
    "modeld.add(Dense(1, kernel_initializer='Orthogonal')) \n",
    "modeld.add(Activation('sigmoid'))\n",
    "\n",
    "##Optimizer\n",
    "sgd = SGD(lr=0.1, decay=1e-6, momentum=0.9, nesterov=True)\n",
    "modeld.compile(loss='binary_crossentropy', metrics=['accuracy'], optimizer=sgd)\n",
    "\n",
    "modeld.fit(x, y, epochs=5, batch_size=1000)\n",
    "roc_auc_score(y_test,modeld.predict(x_test))\n",
    "#end"
   ]
  },
  {
   "cell_type": "markdown",
   "metadata": {},
   "source": [
    "#### 'RandomNormal' Kernel Initializer"
   ]
  },
  {
   "cell_type": "code",
   "execution_count": 44,
   "metadata": {},
   "outputs": [
    {
     "name": "stderr",
     "output_type": "stream",
     "text": [
      "INFO (theano.gof.compilelock): Refreshing lock C:\\Users\\Dominique\\AppData\\Local\\Theano\\compiledir_Windows-7-6.1.7601-SP1-Intel64_Family_6_Model_42_Stepping_7_GenuineIntel-3.6.4-64\\lock_dir\\lock\n"
     ]
    },
    {
     "name": "stdout",
     "output_type": "stream",
     "text": [
      "Epoch 1/5\n",
      "1000000/1000000 [==============================] - 67s 67us/step - loss: 0.6917 - acc: 0.5289\n",
      "Epoch 2/5\n",
      "1000000/1000000 [==============================] - 71s 71us/step - loss: 0.6916 - acc: 0.5295 1s - loss: 0.691\n",
      "Epoch 3/5\n",
      "1000000/1000000 [==============================] - 71s 71us/step - loss: 0.6916 - acc: 0.5294\n",
      "Epoch 4/5\n",
      "1000000/1000000 [==============================] - 71s 71us/step - loss: 0.6914 - acc: 0.5298\n",
      "Epoch 5/5\n",
      "1000000/1000000 [==============================] - 68s 68us/step - loss: 0.6752 - acc: 0.5687\n"
     ]
    },
    {
     "data": {
      "text/plain": [
       "0.66436901307139196"
      ]
     },
     "execution_count": 44,
     "metadata": {},
     "output_type": "execute_result"
    }
   ],
   "source": [
    "modele = Sequential()\n",
    "\n",
    "## Layer 1\n",
    "modele.add(Dense(80, input_dim=x.shape[1], kernel_initializer='RandomNormal')) # X_train.shape[1] == 28 here\n",
    "\n",
    "#Other options besides sigmoid (relu, )\n",
    "modele.add(Activation('sigmoid'))\n",
    "#model.add(Dropout(0.10))\n",
    "\n",
    "##Layer 2\n",
    "modele.add(Dense(80, kernel_initializer='RandomNormal'))\n",
    "modele.add(Activation('sigmoid'))\n",
    "#model.add(Dropout(0.10))\n",
    "\n",
    "##Layer 3 added\n",
    "modele.add(Dense(40, kernel_initializer='RandomNormal'))\n",
    "modele.add(Activation('sigmoid'))\n",
    "#model.add(Dropout(0.10))\n",
    "\n",
    "##Output Layer\n",
    "modele.add(Dense(1, kernel_initializer='RandomNormal')) \n",
    "modele.add(Activation('sigmoid'))\n",
    "\n",
    "##Optimizer\n",
    "sgd = SGD(lr=0.1, decay=1e-6, momentum=0.9, nesterov=True)\n",
    "modele.compile(loss='binary_crossentropy', metrics=['accuracy'], optimizer=sgd)\n",
    "\n",
    "modele.fit(x, y, epochs=5, batch_size=1000)\n",
    "roc_auc_score(y_test,modele.predict(x_test))\n",
    "#end"
   ]
  },
  {
   "cell_type": "markdown",
   "metadata": {},
   "source": [
    "### 5.\tTake your best results from #3 and try 3 different optimizers. (LMGTFY) [RMSprop, Adagrad, Adadelta]"
   ]
  },
  {
   "cell_type": "markdown",
   "metadata": {},
   "source": [
    "#### 'Adagrad' Optimizer"
   ]
  },
  {
   "cell_type": "code",
   "execution_count": 47,
   "metadata": {},
   "outputs": [
    {
     "name": "stderr",
     "output_type": "stream",
     "text": [
      "INFO (theano.gof.compilelock): Refreshing lock C:\\Users\\Dominique\\AppData\\Local\\Theano\\compiledir_Windows-7-6.1.7601-SP1-Intel64_Family_6_Model_42_Stepping_7_GenuineIntel-3.6.4-64\\lock_dir\\lock\n"
     ]
    },
    {
     "name": "stdout",
     "output_type": "stream",
     "text": [
      "Epoch 1/5\n",
      "1000000/1000000 [==============================] - 79s 79us/step - loss: 0.6043 - acc: 0.6717\n",
      "Epoch 2/5\n",
      "1000000/1000000 [==============================] - 92s 92us/step - loss: 0.5770 - acc: 0.6942\n",
      "Epoch 3/5\n",
      "1000000/1000000 [==============================] - 97s 97us/step - loss: 0.5683 - acc: 0.7004\n",
      "Epoch 4/5\n",
      "1000000/1000000 [==============================] - 93s 93us/step - loss: 0.5638 - acc: 0.7038\n",
      "Epoch 5/5\n",
      "1000000/1000000 [==============================] - 94s 94us/step - loss: 0.5608 - acc: 0.7062\n"
     ]
    },
    {
     "data": {
      "text/plain": [
       "0.78261699357595638"
      ]
     },
     "execution_count": 47,
     "metadata": {},
     "output_type": "execute_result"
    }
   ],
   "source": [
    "modelf = Sequential()\n",
    "\n",
    "## Layer 1\n",
    "modelf.add(Dense(80, input_dim=x.shape[1], kernel_initializer='uniform')) # X_train.shape[1] == 28 here\n",
    "modelf.add(Activation('sigmoid'))\n",
    "#model.add(Dropout(0.10))\n",
    "\n",
    "##Layer 2\n",
    "modelf.add(Dense(80, kernel_initializer='uniform'))\n",
    "modelf.add(Activation('sigmoid'))\n",
    "#model.add(Dropout(0.10))\n",
    "\n",
    "##Layer 3 \n",
    "modelf.add(Dense(40, kernel_initializer='uniform'))\n",
    "modelf.add(Activation('sigmoid'))\n",
    "#model.add(Dropout(0.10))\n",
    "\n",
    "##Output Layer\n",
    "modelf.add(Dense(1, kernel_initializer='uniform')) \n",
    "modelf.add(Activation('sigmoid'))\n",
    "\n",
    "##Optimizer\n",
    "ada = Adagrad(lr=0.1)\n",
    "modelf.compile(loss='binary_crossentropy', metrics=['accuracy'], optimizer=ada)\n",
    "\n",
    "modelf.fit(x, y, epochs=5, batch_size=100)\n",
    "roc_auc_score(y_test,modelf.predict(x_test))\n",
    "#end"
   ]
  },
  {
   "cell_type": "markdown",
   "metadata": {},
   "source": [
    "#### 'Adadelta' Optimizer"
   ]
  },
  {
   "cell_type": "code",
   "execution_count": 48,
   "metadata": {},
   "outputs": [
    {
     "name": "stderr",
     "output_type": "stream",
     "text": [
      "INFO (theano.gof.compilelock): Refreshing lock C:\\Users\\Dominique\\AppData\\Local\\Theano\\compiledir_Windows-7-6.1.7601-SP1-Intel64_Family_6_Model_42_Stepping_7_GenuineIntel-3.6.4-64\\lock_dir\\lock\n"
     ]
    },
    {
     "name": "stdout",
     "output_type": "stream",
     "text": [
      "Epoch 1/5\n",
      "1000000/1000000 [==============================] - 113s 113us/step - loss: 0.6914 - acc: 0.5297\n",
      "Epoch 2/5\n",
      "1000000/1000000 [==============================] - 103s 103us/step - loss: 0.6914 - acc: 0.5297\n",
      "Epoch 3/5\n",
      "1000000/1000000 [==============================] - 99s 99us/step - loss: 0.6914 - acc: 0.5297\n",
      "Epoch 4/5\n",
      "1000000/1000000 [==============================] - 98s 98us/step - loss: 0.6914 - acc: 0.5297\n",
      "Epoch 5/5\n",
      "1000000/1000000 [==============================] - 99s 99us/step - loss: 0.6914 - acc: 0.5297\n"
     ]
    },
    {
     "data": {
      "text/plain": [
       "0.56482105005798533"
      ]
     },
     "execution_count": 48,
     "metadata": {},
     "output_type": "execute_result"
    }
   ],
   "source": [
    "modelg = Sequential()\n",
    "\n",
    "## Layer 1\n",
    "modelg.add(Dense(80, input_dim=x.shape[1], kernel_initializer='uniform')) # X_train.shape[1] == 28 here\n",
    "modelg.add(Activation('sigmoid'))\n",
    "#model.add(Dropout(0.10))\n",
    "\n",
    "##Layer 2\n",
    "modelg.add(Dense(80, kernel_initializer='uniform'))\n",
    "modelg.add(Activation('sigmoid'))\n",
    "#model.add(Dropout(0.10))\n",
    "\n",
    "##Layer 3 \n",
    "modelg.add(Dense(40, kernel_initializer='uniform'))\n",
    "modelg.add(Activation('sigmoid'))\n",
    "#model.add(Dropout(0.10))\n",
    "\n",
    "##Output Layer\n",
    "modelg.add(Dense(1, kernel_initializer='uniform')) \n",
    "modelg.add(Activation('sigmoid'))\n",
    "\n",
    "##Optimizer\n",
    "adaDelta = Adadelta(lr=0.1)\n",
    "modelg.compile(loss='binary_crossentropy', metrics=['accuracy'], optimizer=adaDelta)\n",
    "\n",
    "modelg.fit(x, y, epochs=5, batch_size=100)\n",
    "roc_auc_score(y_test,modelg.predict(x_test))\n",
    "#end"
   ]
  },
  {
   "cell_type": "markdown",
   "metadata": {},
   "source": [
    "#### 'Adam' Optimizer"
   ]
  },
  {
   "cell_type": "code",
   "execution_count": 49,
   "metadata": {},
   "outputs": [
    {
     "name": "stderr",
     "output_type": "stream",
     "text": [
      "INFO (theano.gof.compilelock): Refreshing lock C:\\Users\\Dominique\\AppData\\Local\\Theano\\compiledir_Windows-7-6.1.7601-SP1-Intel64_Family_6_Model_42_Stepping_7_GenuineIntel-3.6.4-64\\lock_dir\\lock\n"
     ]
    },
    {
     "name": "stdout",
     "output_type": "stream",
     "text": [
      "Epoch 1/5\n",
      "1000000/1000000 [==============================] - 90s 90us/step - loss: 0.6927 - acc: 0.5235\n",
      "Epoch 2/5\n",
      "1000000/1000000 [==============================] - 91s 91us/step - loss: 0.6925 - acc: 0.5233\n",
      "Epoch 3/5\n",
      "1000000/1000000 [==============================] - 94s 94us/step - loss: 0.6925 - acc: 0.5235\n",
      "Epoch 4/5\n",
      "1000000/1000000 [==============================] - 92s 92us/step - loss: 0.6925 - acc: 0.5234\n",
      "Epoch 5/5\n",
      "1000000/1000000 [==============================] - 94s 94us/step - loss: 0.6925 - acc: 0.5239\n"
     ]
    },
    {
     "data": {
      "text/plain": [
       "0.5"
      ]
     },
     "execution_count": 49,
     "metadata": {},
     "output_type": "execute_result"
    }
   ],
   "source": [
    "modelh = Sequential()\n",
    "\n",
    "## Layer 1\n",
    "modelh.add(Dense(80, input_dim=x.shape[1], kernel_initializer='uniform')) # X_train.shape[1] == 28 here\n",
    "modelh.add(Activation('sigmoid'))\n",
    "#model.add(Dropout(0.10))\n",
    "\n",
    "##Layer 2\n",
    "modelh.add(Dense(80, kernel_initializer='uniform'))\n",
    "modelh.add(Activation('sigmoid'))\n",
    "#model.add(Dropout(0.10))\n",
    "\n",
    "##Layer 3 \n",
    "modelh.add(Dense(40, kernel_initializer='uniform'))\n",
    "modelh.add(Activation('sigmoid'))\n",
    "#model.add(Dropout(0.10))\n",
    "\n",
    "##Output Layer\n",
    "modelh.add(Dense(1, kernel_initializer='uniform')) \n",
    "modelh.add(Activation('sigmoid'))\n",
    "\n",
    "##Optimizer\n",
    "Adam = Adam(lr=0.1)\n",
    "modelh.compile(loss='binary_crossentropy', metrics=['accuracy'], optimizer=Adam)\n",
    "\n",
    "modelh.fit(x, y, epochs=5, batch_size=100)\n",
    "roc_auc_score(y_test,modelh.predict(x_test))\n",
    "#end"
   ]
  },
  {
   "cell_type": "markdown",
   "metadata": {},
   "source": [
    "## <u>Results</u>"
   ]
  },
  {
   "cell_type": "markdown",
   "metadata": {},
   "source": [
    "### 6.\tTake all that you’ve learned so far and give your best shot at producing a score."
   ]
  },
  {
   "cell_type": "code",
   "execution_count": 52,
   "metadata": {},
   "outputs": [
    {
     "name": "stdout",
     "output_type": "stream",
     "text": [
      "Epoch 1/5\n",
      "1000000/1000000 [==============================] - 30s 30us/step - loss: 2.4034 - acc: 0.6257\n",
      "Epoch 2/5\n",
      "1000000/1000000 [==============================] - 39s 39us/step - loss: 0.5693 - acc: 0.6999 1s - lo\n",
      "Epoch 3/5\n",
      "1000000/1000000 [==============================] - 41s 41us/step - loss: 0.5547 - acc: 0.7118 2s - lo - ETA: 1s -\n",
      "Epoch 4/5\n",
      "1000000/1000000 [==============================] - 41s 41us/step - loss: 0.5458 - acc: 0.7186\n",
      "Epoch 5/5\n",
      "1000000/1000000 [==============================] - 42s 42us/step - loss: 0.5399 - acc: 0.7231\n"
     ]
    },
    {
     "data": {
      "text/plain": [
       "0.80325687006295921"
      ]
     },
     "execution_count": 52,
     "metadata": {},
     "output_type": "execute_result"
    }
   ],
   "source": [
    "#Begin \n",
    "\n",
    "##30 - 43 minute marks\n",
    "##50 is the number of neurons, number of neurons dont have the be the same per Layer\n",
    "##Dropout prevent overfitting, prof uses .25 instead of .5 but does not increase speed of the model. \n",
    "\n",
    "modelI = Sequential()\n",
    "\n",
    "## Layer 1\n",
    "modelI.add(Dense(80, input_dim=x.shape[1], kernel_initializer='Orthogonal')) # X_train.shape[1] == 28 here\n",
    "modelI.add(Activation('relu'))\n",
    "#model.add(Dropout(0.10))\n",
    "\n",
    "##Layer 2\n",
    "modelI.add(Dense(80, kernel_initializer='Orthogonal'))\n",
    "modelI.add(Activation('relu'))\n",
    "#model.add(Dropout(0.10))\n",
    "\n",
    "\n",
    "\n",
    "##Layer 3 \n",
    "modelI.add(Dense(40, kernel_initializer='Orthogonal'))\n",
    "modelI.add(Activation('relu'))\n",
    "#model.add(Dropout(0.10))\n",
    "\n",
    "\n",
    "\n",
    "\n",
    "##Output Layer\n",
    "modelI.add(Dense(1, kernel_initializer='Orthogonal')) \n",
    "modelI.add(Activation('sigmoid'))\n",
    "\n",
    "#Optimizer\n",
    "adaI = Adagrad(lr=0.1)\n",
    "modelI.compile(loss='binary_crossentropy', metrics=['accuracy'], optimizer=adaI)\n",
    "\n",
    "modelI.fit(x, y, epochs=5, batch_size=100)\n",
    "roc_auc_score(y_test,modelI.predict(x_test))\n",
    "#end"
   ]
  },
  {
   "cell_type": "markdown",
   "metadata": {},
   "source": [
    "## <u>Conclusion</u>"
   ]
  },
  {
   "cell_type": "markdown",
   "metadata": {},
   "source": [
    "### Q1: What was the effect of adding more layers/neurons."
   ]
  },
  {
   "cell_type": "markdown",
   "metadata": {},
   "source": [
    "Insert text here"
   ]
  },
  {
   "cell_type": "markdown",
   "metadata": {},
   "source": [
    "### Q2: Which parameters gave you the best result and why (in your opinion) did they work."
   ]
  },
  {
   "cell_type": "markdown",
   "metadata": {},
   "source": [
    "Insert text here"
   ]
  },
  {
   "cell_type": "markdown",
   "metadata": {},
   "source": [
    "### Q3: For #6, how did you decide that your model was ‘done’"
   ]
  },
  {
   "cell_type": "markdown",
   "metadata": {},
   "source": [
    "Insert text here"
   ]
  },
  {
   "cell_type": "code",
   "execution_count": null,
   "metadata": {},
   "outputs": [],
   "source": []
  }
 ],
 "metadata": {
  "kernelspec": {
   "display_name": "Python 3",
   "language": "python",
   "name": "python3"
  },
  "language_info": {
   "codemirror_mode": {
    "name": "ipython",
    "version": 3
   },
   "file_extension": ".py",
   "mimetype": "text/x-python",
   "name": "python",
   "nbconvert_exporter": "python",
   "pygments_lexer": "ipython3",
   "version": "3.6.4"
  }
 },
 "nbformat": 4,
 "nbformat_minor": 2
}
